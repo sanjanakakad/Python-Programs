{
 "cells": [
  {
   "cell_type": "code",
   "execution_count": 12,
   "metadata": {},
   "outputs": [
    {
     "name": "stdout",
     "output_type": "stream",
     "text": [
      "100\n",
      "0,35,70\n"
     ]
    }
   ],
   "source": [
    "#1\n",
    "ls=[]\n",
    "n=int(input())\n",
    "for i in range(0,n+1):\n",
    "    if (i%5==0)and (i%7==0):\n",
    "        ls.append(i)\n",
    "#for j in ls:\n",
    "   # print(j,end=',')\n",
    "print(','.join(str(e) for e in ls ))"
   ]
  },
  {
   "cell_type": "code",
   "execution_count": 13,
   "metadata": {},
   "outputs": [
    {
     "name": "stdout",
     "output_type": "stream",
     "text": [
      "10\n",
      "0,2,4,6,8,10\n"
     ]
    }
   ],
   "source": [
    "#2\n",
    "ls=[]\n",
    "n=int(input())\n",
    "for s in range(0,n+1):\n",
    "    if s%2==0:\n",
    "        ls.append(s)\n",
    "print(','.join(str(e) for e in ls))"
   ]
  },
  {
   "cell_type": "code",
   "execution_count": 24,
   "metadata": {},
   "outputs": [
    {
     "name": "stdout",
     "output_type": "stream",
     "text": [
      "7\n",
      "0,1,1,3,5,7,9\n"
     ]
    }
   ],
   "source": [
    "#3\n",
    "fn=[]\n",
    "n=int(input())\n",
    "for i in range(0,n):\n",
    "    if i ==0:\n",
    "        fn.append(i)\n",
    "    elif i ==1:\n",
    "        fn.append(i)\n",
    "    else:\n",
    "        f=(i-1)+(i-2)\n",
    "        fn.append(f)\n",
    "print(','.join(str(e)for e in fn))    "
   ]
  },
  {
   "cell_type": "code",
   "execution_count": 36,
   "metadata": {},
   "outputs": [
    {
     "name": "stdout",
     "output_type": "stream",
     "text": [
      "john@google.com\n",
      "john\n"
     ]
    }
   ],
   "source": [
    "#4\n",
    "x=input()\n",
    "pos=x.index('@')\n",
    "ls=[x[i] for i in range(0,pos)]\n",
    "print(''.join(str(e) for e in ls))"
   ]
  },
  {
   "cell_type": "code",
   "execution_count": null,
   "metadata": {},
   "outputs": [],
   "source": [
    "#5\n"
   ]
  }
 ],
 "metadata": {
  "kernelspec": {
   "display_name": "Python 3",
   "language": "python",
   "name": "python3"
  },
  "language_info": {
   "codemirror_mode": {
    "name": "ipython",
    "version": 3
   },
   "file_extension": ".py",
   "mimetype": "text/x-python",
   "name": "python",
   "nbconvert_exporter": "python",
   "pygments_lexer": "ipython3",
   "version": "3.8.5"
  }
 },
 "nbformat": 4,
 "nbformat_minor": 4
}
