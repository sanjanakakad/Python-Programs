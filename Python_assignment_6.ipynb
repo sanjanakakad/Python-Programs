{
 "cells": [
  {
   "cell_type": "code",
   "execution_count": 13,
   "metadata": {},
   "outputs": [
    {
     "name": "stdout",
     "output_type": "stream",
     "text": [
      "enter the number : 6\n",
      "Fibonacci series:\n",
      "0\n",
      "1\n",
      "1\n",
      "2\n",
      "3\n",
      "5\n"
     ]
    }
   ],
   "source": [
    "#Program to display fibonacci sequence using recursion\n",
    "\n",
    "def fibo(n):\n",
    "   if n <= 1:\n",
    "       return n\n",
    "   else:\n",
    "       return(fibo(n-1) + fibo(n-2))\n",
    "\n",
    "nterms = int(input('enter the number : '))\n",
    "\n",
    "if nterms <= 0:\n",
    "   print(\"Plese enter a positive integer\")\n",
    "else:\n",
    "   print(\"Fibonacci series:\")\n",
    "   for i in range(nterms):\n",
    "       print(fibo(i))"
   ]
  },
  {
   "cell_type": "code",
   "execution_count": 2,
   "metadata": {},
   "outputs": [
    {
     "name": "stdout",
     "output_type": "stream",
     "text": [
      "enter the number : 5\n",
      "factorial of given number is:  120\n"
     ]
    }
   ],
   "source": [
    "#Program to factorial of number using recursion\n",
    "def fact(num):\n",
    "    if num<=1:\n",
    "        return 1\n",
    "    else:\n",
    "        return(num*fact(num-1))\n",
    "    \n",
    "num=int(input(\"enter the number : \"))\n",
    "print('factorial of given number is: ', fact(num))"
   ]
  },
  {
   "cell_type": "code",
   "execution_count": 18,
   "metadata": {},
   "outputs": [
    {
     "name": "stdout",
     "output_type": "stream",
     "text": [
      "enter your height in cm : 155\n",
      "enter your weight in kg : 57\n",
      "the BMI of given person is :  23.725286160249738\n"
     ]
    }
   ],
   "source": [
    "#Program to calculate yuor body mass index\n",
    "h=float(input('enter your height in cm : '))\n",
    "w=float(input('enter your weight in kg : '))\n",
    "print('the BMI of given person is : ',w/(h/100)**2)"
   ]
  },
  {
   "cell_type": "code",
   "execution_count": 19,
   "metadata": {},
   "outputs": [
    {
     "name": "stdout",
     "output_type": "stream",
     "text": [
      "enter the number : 5\n",
      "the logarithmic value of number is:  1.6094379124341003\n"
     ]
    }
   ],
   "source": [
    "#Program to calculate the natural logarithm of any number\n",
    "import math\n",
    "x=int(input('enter the number : '))\n",
    "print('the logarithmic value of number is: ', math.log(x))"
   ]
  },
  {
   "cell_type": "code",
   "execution_count": null,
   "metadata": {},
   "outputs": [],
   "source": [
    "#Program to find cube sum of first n natural numbers\n",
    "n=int(input('enter the natural number'))\n",
    "if n<=0:\n",
    "    print('enter positive number!')\n",
    "else:\n",
    "    k=n**2\n",
    "    l=(n+1)**2\n",
    "    print(k*l/4)"
   ]
  },
  {
   "cell_type": "code",
   "execution_count": null,
   "metadata": {},
   "outputs": [],
   "source": []
  }
 ],
 "metadata": {
  "kernelspec": {
   "display_name": "Python 3",
   "language": "python",
   "name": "python3"
  },
  "language_info": {
   "codemirror_mode": {
    "name": "ipython",
    "version": 3
   },
   "file_extension": ".py",
   "mimetype": "text/x-python",
   "name": "python",
   "nbconvert_exporter": "python",
   "pygments_lexer": "ipython3",
   "version": "3.8.5"
  }
 },
 "nbformat": 4,
 "nbformat_minor": 4
}
