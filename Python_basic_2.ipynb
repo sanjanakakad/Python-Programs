{
 "cells": [
  {
   "cell_type": "code",
   "execution_count": 2,
   "metadata": {},
   "outputs": [
    {
     "name": "stdout",
     "output_type": "stream",
     "text": [
      "enter the kilometers : 2\n",
      "the kilometer count is :  1.204\n"
     ]
    }
   ],
   "source": [
    "#Program to convert kilometers to miles \n",
    "kilo=int(input(\"enter the kilometers : \"))\n",
    "convo=kilo*0.602\n",
    "print(\"the kilometer count is : \",convo)"
   ]
  },
  {
   "cell_type": "code",
   "execution_count": 16,
   "metadata": {},
   "outputs": [
    {
     "name": "stdout",
     "output_type": "stream",
     "text": [
      "Enter the temperature in degree celcius : 40\n",
      "The temperature in fahrenheit is :  104.0\n"
     ]
    }
   ],
   "source": [
    "#Program to convert Celcius to Fahrenheit\n",
    "C=int(input(\"Enter the temperature in degree celcius : \"))\n",
    "F=C * 1.8000 + 32.00\n",
    "print('The temperature in fahrenheit is : ',F)"
   ]
  },
  {
   "cell_type": "code",
   "execution_count": 22,
   "metadata": {},
   "outputs": [
    {
     "name": "stdout",
     "output_type": "stream",
     "text": [
      "enter two numbers : \n",
      "4\n",
      "2\n",
      "\n",
      "which function do you wish to perform? \n",
      "1.addition\n",
      "2.subtraction\n",
      "3.multiplicatio\n",
      "4.divison\n",
      "5.exponent\n",
      "\n",
      "5\n",
      "enter the power : 2\n",
      "exponent value of a&b  is :  16 4\n"
     ]
    }
   ],
   "source": [
    "#Program to display calculator\n",
    "print(\"enter two numbers : \")\n",
    "a=int(input(\"\"))\n",
    "b=int(input(\"\"))\n",
    "print(\"\\nwhich function do you wish to perform? \\n1.addition\\n2.subtraction\\n3.multiplicatio\\n4.divison\\n5.exponent\")\n",
    "key=int(input(\"\\n\"))\n",
    "if key==1 :\n",
    "    a=a+b\n",
    "    print(\"addition is : \",a)\n",
    "elif key==2 :\n",
    "    a=a-b\n",
    "    print(\"subtraction is : \",a)\n",
    "elif key==3 :\n",
    "    a=a*b\n",
    "    print(\"multipliccation is : \",a)\n",
    "elif key==4 :\n",
    "    a=a/b\n",
    "    print(\"divison is : \",a)\n",
    "elif key==5 :\n",
    "    c=int(input(\"enter the power : \"))\n",
    "    a=a**c\n",
    "    b=b**c\n",
    "    print(\"exponent value of a&b  is : \",a ,b)\n",
    "else :\n",
    "    print(\"entered wrong choice oops!! \")"
   ]
  },
  {
   "cell_type": "code",
   "execution_count": 25,
   "metadata": {},
   "outputs": [
    {
     "name": "stdout",
     "output_type": "stream",
     "text": [
      "Enter a: 2\n",
      "Enter b: 4\n",
      "Enter c: 1\n",
      "Real & Different roots\n",
      "-0.2928932188134524\n",
      "-1.7071067811865475\n"
     ]
    }
   ],
   "source": [
    "#Program to solve Quadratic equation\n",
    "import math\n",
    "def roots(a,b,c):\n",
    "    formula=b*b-4*a*c\n",
    "    sqr=math.sqrt(abs(formula))\n",
    "    \n",
    "    if formula>0:\n",
    "        print('Real & Different roots')\n",
    "        print((-b+sqr)/(2*a))\n",
    "        print((-b-sqr)/(2*a))\n",
    "        \n",
    "    elif formula==0:\n",
    "        print(\"real and same roots\")\n",
    "        print(-b/(2*a))\n",
    "        \n",
    "    else:\n",
    "        print(\"Complex Roots\")\n",
    "        print(-b/(2*a),\"+ i\",sqr)\n",
    "        print(-b/(2*a),\"- i\",sqr)\n",
    "        \n",
    "a=int(input('Enter a: '))\n",
    "b=int(input('Enter b: '))\n",
    "c=int(input('Enter c: '))\n",
    "\n",
    "if a==0:\n",
    "    print(\"enter the correct number\")\n",
    "else:\n",
    "    roots(a,b,c)"
   ]
  },
  {
   "cell_type": "code",
   "execution_count": 20,
   "metadata": {},
   "outputs": [
    {
     "name": "stdout",
     "output_type": "stream",
     "text": [
      "Enter the two numbers : \n",
      "34\n",
      "35\n",
      "the swapped numbers are :  35 34\n"
     ]
    }
   ],
   "source": [
    "#program to swap two variables without temp variable \n",
    "print('Enter the two numbers : ')\n",
    "a=int(input(\"\"))\n",
    "b=int(input(\"\"))\n",
    "a=a+b\n",
    "b=a-b\n",
    "a=a-b\n",
    "print('the swapped numbers are : ' ,a,b)"
   ]
  },
  {
   "cell_type": "code",
   "execution_count": 31,
   "metadata": {},
   "outputs": [
    {
     "name": "stdout",
     "output_type": "stream",
     "text": [
      "enter year2022\n",
      "                                  2022\n",
      "\n",
      "      January                   February                   March\n",
      "Mo Tu We Th Fr Sa Su      Mo Tu We Th Fr Sa Su      Mo Tu We Th Fr Sa Su\n",
      "                1  2          1  2  3  4  5  6          1  2  3  4  5  6\n",
      " 3  4  5  6  7  8  9       7  8  9 10 11 12 13       7  8  9 10 11 12 13\n",
      "10 11 12 13 14 15 16      14 15 16 17 18 19 20      14 15 16 17 18 19 20\n",
      "17 18 19 20 21 22 23      21 22 23 24 25 26 27      21 22 23 24 25 26 27\n",
      "24 25 26 27 28 29 30      28                        28 29 30 31\n",
      "31\n",
      "\n",
      "       April                      May                       June\n",
      "Mo Tu We Th Fr Sa Su      Mo Tu We Th Fr Sa Su      Mo Tu We Th Fr Sa Su\n",
      "             1  2  3                         1             1  2  3  4  5\n",
      " 4  5  6  7  8  9 10       2  3  4  5  6  7  8       6  7  8  9 10 11 12\n",
      "11 12 13 14 15 16 17       9 10 11 12 13 14 15      13 14 15 16 17 18 19\n",
      "18 19 20 21 22 23 24      16 17 18 19 20 21 22      20 21 22 23 24 25 26\n",
      "25 26 27 28 29 30         23 24 25 26 27 28 29      27 28 29 30\n",
      "                          30 31\n",
      "\n",
      "        July                     August                  September\n",
      "Mo Tu We Th Fr Sa Su      Mo Tu We Th Fr Sa Su      Mo Tu We Th Fr Sa Su\n",
      "             1  2  3       1  2  3  4  5  6  7                1  2  3  4\n",
      " 4  5  6  7  8  9 10       8  9 10 11 12 13 14       5  6  7  8  9 10 11\n",
      "11 12 13 14 15 16 17      15 16 17 18 19 20 21      12 13 14 15 16 17 18\n",
      "18 19 20 21 22 23 24      22 23 24 25 26 27 28      19 20 21 22 23 24 25\n",
      "25 26 27 28 29 30 31      29 30 31                  26 27 28 29 30\n",
      "\n",
      "      October                   November                  December\n",
      "Mo Tu We Th Fr Sa Su      Mo Tu We Th Fr Sa Su      Mo Tu We Th Fr Sa Su\n",
      "                1  2          1  2  3  4  5  6                1  2  3  4\n",
      " 3  4  5  6  7  8  9       7  8  9 10 11 12 13       5  6  7  8  9 10 11\n",
      "10 11 12 13 14 15 16      14 15 16 17 18 19 20      12 13 14 15 16 17 18\n",
      "17 18 19 20 21 22 23      21 22 23 24 25 26 27      19 20 21 22 23 24 25\n",
      "24 25 26 27 28 29 30      28 29 30                  26 27 28 29 30 31\n",
      "31\n",
      "\n"
     ]
    }
   ],
   "source": [
    "#Program to display calendar\n",
    "import calendar as sanju\n",
    "y=int(input('enter year'))\n",
    "print(sanju.calendar(y))"
   ]
  }
 ],
 "metadata": {
  "kernelspec": {
   "display_name": "Python 3",
   "language": "python",
   "name": "python3"
  }
 },
 "nbformat": 4,
 "nbformat_minor": 4
}
