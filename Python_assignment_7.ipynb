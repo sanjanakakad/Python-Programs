{
 "cells": [
  {
   "cell_type": "code",
   "execution_count": 4,
   "metadata": {},
   "outputs": [
    {
     "name": "stdout",
     "output_type": "stream",
     "text": [
      "enter the length : 6\n",
      "20\n",
      "10\n",
      "20\n",
      "30\n",
      "40\n",
      "50\n",
      "the sum of array entered is  170\n"
     ]
    }
   ],
   "source": [
    "#Progran to find sum of array\n",
    "arr=[]\n",
    "n=int(input('enter the length : '))\n",
    "for i in range(0,n):\n",
    "    x=int(input())\n",
    "    arr.append(x)\n",
    "sum=0\n",
    "for i in arr:\n",
    "    sum=sum+i\n",
    "print(\"the sum of array entered is \", sum)"
   ]
  },
  {
   "cell_type": "code",
   "execution_count": 5,
   "metadata": {},
   "outputs": [
    {
     "name": "stdout",
     "output_type": "stream",
     "text": [
      "enter the length : 5\n",
      "32\n",
      "12\n",
      "57\n",
      "543\n",
      "32\n",
      "the largest element of array entered is  543\n"
     ]
    }
   ],
   "source": [
    "#Progran to find largest element in array \n",
    "arr=[]\n",
    "n=int(input('enter the length : '))\n",
    "for i in range(0,n):\n",
    "    x=int(input())\n",
    "    arr.append(x)\n",
    "arr.sort()\n",
    "print(\"the largest element of array entered is \",arr[-1])"
   ]
  },
  {
   "cell_type": "code",
   "execution_count": null,
   "metadata": {},
   "outputs": [],
   "source": [
    "#Progran for array rotation "
   ]
  },
  {
   "cell_type": "code",
   "execution_count": null,
   "metadata": {},
   "outputs": [],
   "source": [
    "#Progran to split the array and add first part to the end"
   ]
  },
  {
   "cell_type": "code",
   "execution_count": null,
   "metadata": {},
   "outputs": [],
   "source": [
    "#Progran to check if given array is monotonic"
   ]
  }
 ],
 "metadata": {
  "kernelspec": {
   "display_name": "Python 3",
   "language": "python",
   "name": "python3"
  },
  "language_info": {
   "codemirror_mode": {
    "name": "ipython",
    "version": 3
   },
   "file_extension": ".py",
   "mimetype": "text/x-python",
   "name": "python",
   "nbconvert_exporter": "python",
   "pygments_lexer": "ipython3",
   "version": "3.8.5"
  }
 },
 "nbformat": 4,
 "nbformat_minor": 4
}
