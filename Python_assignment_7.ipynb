{
 "cells": [
  {
   "cell_type": "code",
   "execution_count": 4,
   "metadata": {},
   "outputs": [
    {
     "name": "stdout",
     "output_type": "stream",
     "text": [
      "enter the length : 6\n",
      "20\n",
      "10\n",
      "20\n",
      "30\n",
      "40\n",
      "50\n",
      "the sum of array entered is  170\n"
     ]
    }
   ],
   "source": [
    "#Progran to find sum of array\n",
    "arr=[]\n",
    "n=int(input('enter the length : '))\n",
    "for i in range(0,n):\n",
    "    x=int(input())\n",
    "    arr.append(x)\n",
    "sum=0\n",
    "for i in arr:\n",
    "    sum=sum+i\n",
    "print(\"the sum of array entered is \", sum)"
   ]
  },
  {
   "cell_type": "code",
   "execution_count": 5,
   "metadata": {},
   "outputs": [
    {
     "name": "stdout",
     "output_type": "stream",
     "text": [
      "enter the length : 5\n",
      "32\n",
      "12\n",
      "57\n",
      "543\n",
      "32\n",
      "the largest element of array entered is  543\n"
     ]
    }
   ],
   "source": [
    "#Progran to find largest element in array \n",
    "arr=[]\n",
    "n=int(input('enter the length : '))\n",
    "for i in range(0,n):\n",
    "    x=int(input())\n",
    "    arr.append(x)\n",
    "arr.sort()\n",
    "print(\"the largest element of array entered is \",arr[-1])"
   ]
  },
  {
   "cell_type": "code",
   "execution_count": 7,
   "metadata": {},
   "outputs": [
    {
     "name": "stdout",
     "output_type": "stream",
     "text": [
      "enter the length : 4\n",
      "1\n",
      "2\n",
      "3\n",
      "4\n",
      "[1, 2, 3, 4]\n",
      "Rotated list is\n",
      "[3, 4, 1, 2]\n"
     ]
    }
   ],
   "source": [
    "#Progran for array rotation  *IMPORTANT*\n",
    "def rotateList(arr,d,n):\n",
    "  arr[:]=arr[d:n]+arr[0:d]\n",
    "  return arr\n",
    "arr=[]\n",
    "n=int(input('enter the length : '))\n",
    "for i in range(0,n):\n",
    "    x=int(input())\n",
    "    arr.append(x)\n",
    "print(arr)\n",
    "print(\"Rotated list is\")\n",
    "print(rotateList(arr,2,len(arr))) "
   ]
  },
  {
   "cell_type": "code",
   "execution_count": 8,
   "metadata": {},
   "outputs": [
    {
     "name": "stdout",
     "output_type": "stream",
     "text": [
      "enter the length : 6\n",
      "12\n",
      "10\n",
      "5\n",
      "6\n",
      "52\n",
      "36\n",
      "enter the position to remove and add in end : 2\n",
      "5 6 52 36 12 10 "
     ]
    }
   ],
   "source": [
    "#Progran to split the array and add first part to the end\n",
    "def split(arr, n, k): \n",
    "    for i in range(0, k): \n",
    "        x = arr[0]\n",
    "        for j in range(0, n-1):\n",
    "            arr[j] = arr[j + 1]\n",
    "          \n",
    "        arr[n-1] = x\n",
    "arr=[]\n",
    "s=int(input('enter the length : '))\n",
    "for i in range(0,s):\n",
    "    x=int(input())\n",
    "    arr.append(x)\n",
    "n=len(arr)\n",
    "p=int(input('enter the position to remove and add in end : '))\n",
    "split(arr, n, p)\n",
    "  \n",
    "for i in range(0, n): \n",
    "    print(arr[i], end = ' ')"
   ]
  },
  {
   "cell_type": "code",
   "execution_count": null,
   "metadata": {},
   "outputs": [],
   "source": [
    "#Progran to check if given array is monotonic"
   ]
  }
 ],
 "metadata": {
  "kernelspec": {
   "display_name": "Python 3",
   "language": "python",
   "name": "python3"
  },
  "language_info": {
   "codemirror_mode": {
    "name": "ipython",
    "version": 3
   },
   "file_extension": ".py",
   "mimetype": "text/x-python",
   "name": "python",
   "nbconvert_exporter": "python",
   "pygments_lexer": "ipython3",
   "version": "3.8.5"
  }
 },
 "nbformat": 4,
 "nbformat_minor": 4
}
