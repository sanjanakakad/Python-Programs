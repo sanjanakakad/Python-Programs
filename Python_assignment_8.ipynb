{
 "cells": [
  {
   "cell_type": "code",
   "execution_count": 18,
   "metadata": {},
   "outputs": [
    {
     "name": "stdout",
     "output_type": "stream",
     "text": [
      "[11, 22, 34]\n",
      "[44, 55, 66]\n",
      "[77, 88, 99]\n"
     ]
    }
   ],
   "source": [
    "#Program to add two matrices \n",
    "A1=[[1,2,4],\n",
    "    [4,5,6],\n",
    "    [7,8,9]]\n",
    "A2=[[10,20,30],\n",
    "    [40,50,60],\n",
    "    [70,80,90]]\n",
    "A=[[0,0,0],\n",
    "   [0,0,0],\n",
    "   [0,0,0]]\n",
    "for i in range(len(A1)):\n",
    "    for j in range(len(A2)):\n",
    "        A[i][j]=A1[i][j]+A2[i][j]\n",
    "for a in A:\n",
    "    print(a)"
   ]
  },
  {
   "cell_type": "code",
   "execution_count": 20,
   "metadata": {},
   "outputs": [
    {
     "name": "stdout",
     "output_type": "stream",
     "text": [
      "[10, 40, 120]\n",
      "[160, 250, 360]\n",
      "[490, 640, 810]\n"
     ]
    }
   ],
   "source": [
    "#Program to multiply two matrices \n",
    "A1=[[1,2,4],\n",
    "    [4,5,6],\n",
    "    [7,8,9]]\n",
    "A2=[[10,20,30],\n",
    "    [40,50,60],\n",
    "    [70,80,90]]\n",
    "A=[[0,0,0],\n",
    "   [0,0,0],\n",
    "   [0,0,0]]\n",
    "for i in range(len(A1)):\n",
    "    for j in range(len(A2)):\n",
    "        A[i][j]=A1[i][j]*A2[i][j]\n",
    "for a in A:\n",
    "    print(a)"
   ]
  },
  {
   "cell_type": "code",
   "execution_count": 36,
   "metadata": {},
   "outputs": [
    {
     "name": "stdout",
     "output_type": "stream",
     "text": [
      "[1, 4, 7]\n",
      "[2, 5, 8]\n",
      "[4, 6, 9]\n"
     ]
    }
   ],
   "source": [
    "#Program to transpose a matrix\n",
    "A1=[[1,2,4],\n",
    "    [4,5,6],\n",
    "    [7,8,9]]\n",
    "A=[[0,0,0],\n",
    "   [0,0,0],\n",
    "   [0,0,0]]\n",
    "for i in range(len(A1)):\n",
    "    for j in range(len(A1[0])):\n",
    "        A[j][i]=A1[i][j]\n",
    "for a in A:\n",
    "    print(a)"
   ]
  },
  {
   "cell_type": "code",
   "execution_count": 40,
   "metadata": {},
   "outputs": [
    {
     "name": "stdout",
     "output_type": "stream",
     "text": [
      "Enter a string: Sanjana is a good girl\n",
      "The sorted words are:\n",
      "a\n",
      "girl\n",
      "good\n",
      "is\n",
      "sanjana\n"
     ]
    }
   ],
   "source": [
    "#Program to sort words in alphabetical order\n",
    "str1 = input(\"Enter a string: \")\n",
    "words = [word.lower() for word in str1.split()]\n",
    "words.sort()\n",
    "print(\"The sorted words are:\")\n",
    "for word in words:\n",
    "   print(word)"
   ]
  },
  {
   "cell_type": "code",
   "execution_count": null,
   "metadata": {},
   "outputs": [],
   "source": [
    "#Program to remove punctuation from a string\n",
    "import string\n",
    "str1 = input(\"enter a string: \")\n",
    "for punc in str1:\n",
    "    str1=str1.replace(punc,'')\n",
    "print(str1)"
   ]
  },
  {
   "cell_type": "code",
   "execution_count": null,
   "metadata": {},
   "outputs": [],
   "source": []
  }
 ],
 "metadata": {
  "kernelspec": {
   "display_name": "Python 3",
   "language": "python",
   "name": "python3"
  },
  "language_info": {
   "codemirror_mode": {
    "name": "ipython",
    "version": 3
   },
   "file_extension": ".py",
   "mimetype": "text/x-python",
   "name": "python",
   "nbconvert_exporter": "python",
   "pygments_lexer": "ipython3",
   "version": "3.8.5"
  }
 },
 "nbformat": 4,
 "nbformat_minor": 4
}
