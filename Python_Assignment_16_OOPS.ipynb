{
 "cells": [
  {
   "cell_type": "code",
   "execution_count": 2,
   "metadata": {},
   "outputs": [
    {
     "name": "stdout",
     "output_type": "stream",
     "text": [
      "97 Sanjana\n"
     ]
    }
   ],
   "source": [
    "#Creating a basic class and object\n",
    "class student:\n",
    "    pass\n",
    "student1= student()\n",
    "student1.name=\"Sanjana\"\n",
    "student1.marks=97\n",
    "print(student1.marks, student1.name)"
   ]
  },
  {
   "cell_type": "code",
   "execution_count": 9,
   "metadata": {},
   "outputs": [
    {
     "name": "stdout",
     "output_type": "stream",
     "text": [
      "True False\n"
     ]
    }
   ],
   "source": [
    "#Creating method==function in the class\n",
    "class student:\n",
    "    def pass_fail(self):\n",
    "        if self.marks>=40:\n",
    "            return True\n",
    "        else:\n",
    "            return False\n",
    "student1=student()\n",
    "student2=student()\n",
    "student1.marks=50\n",
    "student2.marks=30\n",
    "print(student1.pass_fail() , student2.pass_fail())"
   ]
  },
  {
   "cell_type": "code",
   "execution_count": 1,
   "metadata": {},
   "outputs": [
    {
     "name": "stdout",
     "output_type": "stream",
     "text": [
      "True False\n"
     ]
    }
   ],
   "source": [
    "#Creating the init fumction (init function is been automatically called by the class)\n",
    "class student:\n",
    "    def pass_fail(self):\n",
    "        if self.marks>=40:\n",
    "            return True\n",
    "        else:\n",
    "            return False\n",
    "    def __init__(self,name,marks):\n",
    "        self.name=name\n",
    "        self.marks=marks\n",
    "student1=student(\"sanjana\",90)\n",
    "student2=student(\"kalantri\",30)\n",
    "print(student1.pass_fail() , student2.pass_fail())"
   ]
  },
  {
   "cell_type": "code",
   "execution_count": 3,
   "metadata": {},
   "outputs": [
    {
     "name": "stdout",
     "output_type": "stream",
     "text": [
      "1 10\n"
     ]
    }
   ],
   "source": [
    "#adding two complex numbers using class \n",
    "class complex:\n",
    "    def __init__(self,real,imag):\n",
    "        self.real=real\n",
    "        self.imag=imag\n",
    "    def add(self,number):\n",
    "        real=self.real+number.real\n",
    "        imag=self.imag+number.imag\n",
    "        r=complex(real , imag)\n",
    "        return r\n",
    "n1=complex(2,8)\n",
    "n2=complex(-1,2)\n",
    "r=n1.add(n2)\n",
    "print(r.real, r.imag)"
   ]
  },
  {
   "cell_type": "code",
   "execution_count": 10,
   "metadata": {},
   "outputs": [
    {
     "name": "stdout",
     "output_type": "stream",
     "text": [
      "12\n"
     ]
    }
   ],
   "source": [
    "#To accept the sizes of triangle and find its perimeter using class and objects \n",
    "class tri:\n",
    "    def __init__(self,a,b,c):\n",
    "        self.a=a\n",
    "        self.b=b\n",
    "        self.c=c\n",
    "    def peri(self, a,b,c):\n",
    "        p=self.a+self.b+self.c\n",
    "        return p\n",
    "t1=tri(3,4,5)\n",
    "p=t1.peri(3,4,5)\n",
    "print(p)"
   ]
  },
  {
   "cell_type": "code",
   "execution_count": 14,
   "metadata": {},
   "outputs": [
    {
     "name": "stdout",
     "output_type": "stream",
     "text": [
      "['__add__', '__class__', '__contains__', '__delattr__', '__delitem__', '__dir__', '__doc__', '__eq__', '__format__', '__ge__', '__getattribute__', '__getitem__', '__gt__', '__hash__', '__iadd__', '__imul__', '__init__', '__init_subclass__', '__iter__', '__le__', '__len__', '__lt__', '__mul__', '__ne__', '__new__', '__reduce__', '__reduce_ex__', '__repr__', '__reversed__', '__rmul__', '__setattr__', '__setitem__', '__sizeof__', '__str__', '__subclasshook__', 'append', 'clear', 'copy', 'count', 'extend', 'index', 'insert', 'pop', 'remove', 'reverse', 'sort']\n",
      "[2, 3, 6, 7]\n",
      "[2, 3, 4, 5]\n",
      "4341295616\n",
      "4341295648\n",
      "4341295616\n"
     ]
    }
   ],
   "source": [
    "#Using inbulit class and their objects\n",
    "#1 dir()==we can list all the attributes and methods of a class using dir function\n",
    "numbers_list=[2,3]\n",
    "print(dir(numbers_list))\n",
    "r=numbers_list.__add__([4,5])\n",
    "print(numbers_list+[6,7])\n",
    "print(r)\n",
    "\n",
    "\n",
    "#2 id()==every object has id for identity and the id is always unique and constant for an object for its lifetime\n",
    "n1=6\n",
    "print(id(n1))\n",
    "n2=7\n",
    "print(id(n2))\n",
    "n2=n1\n",
    "print(id(n2))"
   ]
  },
  {
   "cell_type": "code",
   "execution_count": 17,
   "metadata": {},
   "outputs": [
    {
     "name": "stdout",
     "output_type": "stream",
     "text": [
      "i can bark\n",
      "i can eat\n",
      "i can eat\n",
      "i feel sleepy\n"
     ]
    }
   ],
   "source": [
    "#Inheritance basic class creation program\n",
    "class animal:\n",
    "    def eat(self):\n",
    "        print(\"i can eat\")\n",
    "class dog(animal):\n",
    "    def bark(self):\n",
    "        print(\"i can bark\")\n",
    "class cat(animal):\n",
    "    def sleepy(self):\n",
    "        print('i feel sleepy')\n",
    "d1=dog()\n",
    "d1.bark()\n",
    "d1.eat()\n",
    "c1=cat()\n",
    "c1.eat()\n",
    "c1.sleepy()\n",
    "#c1.bark() as bark is the method of class dog it has no access in class cat until its not inherited"
   ]
  },
  {
   "cell_type": "code",
   "execution_count": 21,
   "metadata": {},
   "outputs": [
    {
     "name": "stdout",
     "output_type": "stream",
     "text": [
      " the permeter is  6\n"
     ]
    }
   ],
   "source": [
    "#An example using inheritance\n",
    "class polygon:\n",
    "    def __init__(self,sides):\n",
    "        self.sides=sides\n",
    "    def get_perimeter(self):\n",
    "        peri=sum(self.sides)\n",
    "        return peri\n",
    "class triangle(polygon):\n",
    "    def info():\n",
    "        print('a triangle has 3 sides')\n",
    "t1=triangle([1,2,3])\n",
    "print(\" the permeter is \",t1.get_perimeter())"
   ]
  },
  {
   "cell_type": "code",
   "execution_count": 25,
   "metadata": {},
   "outputs": [
    {
     "name": "stdout",
     "output_type": "stream",
     "text": [
      "a triangle has 3 sides\n",
      "None\n"
     ]
    }
   ],
   "source": [
    "#Method overriding\n",
    "class polygon:\n",
    "    def __init__(self,sides):\n",
    "        self.sides=sides\n",
    "    def get_perimeter(self):\n",
    "        peri=sum(self.sides)\n",
    "        return peri\n",
    "    def info(self):\n",
    "        print('polygon is a 2D shape')\n",
    "class triangle(polygon):\n",
    "    def info(self):\n",
    "        print('a triangle has 3 sides')\n",
    "#t1=triangle([1,2,3])\n",
    "print(t1.info())"
   ]
  }
 ],
 "metadata": {
  "kernelspec": {
   "display_name": "Python 3",
   "language": "python",
   "name": "python3"
  },
  "language_info": {
   "codemirror_mode": {
    "name": "ipython",
    "version": 3
   },
   "file_extension": ".py",
   "mimetype": "text/x-python",
   "name": "python",
   "nbconvert_exporter": "python",
   "pygments_lexer": "ipython3",
   "version": "3.8.5"
  }
 },
 "nbformat": 4,
 "nbformat_minor": 4
}
