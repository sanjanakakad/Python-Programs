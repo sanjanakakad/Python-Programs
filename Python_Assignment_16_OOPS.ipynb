{
 "cells": [
  {
   "cell_type": "code",
   "execution_count": 2,
   "metadata": {},
   "outputs": [
    {
     "name": "stdout",
     "output_type": "stream",
     "text": [
      "97 Sanjana\n"
     ]
    }
   ],
   "source": [
    "#Creating a basic class and object\n",
    "class student:\n",
    "    pass\n",
    "student1= student()\n",
    "student1.name=\"Sanjana\"\n",
    "student1.marks=97\n",
    "print(student1.marks, student1.name)"
   ]
  },
  {
   "cell_type": "code",
   "execution_count": 9,
   "metadata": {},
   "outputs": [
    {
     "name": "stdout",
     "output_type": "stream",
     "text": [
      "True False\n"
     ]
    }
   ],
   "source": [
    "#Creating method==function in the class\n",
    "class student:\n",
    "    def pass_fail(self):\n",
    "        if self.marks>=40:\n",
    "            return True\n",
    "        else:\n",
    "            return False\n",
    "student1=student()\n",
    "student2=student()\n",
    "student1.marks=50\n",
    "student2.marks=30\n",
    "print(student1.pass_fail() , student2.pass_fail())"
   ]
  },
  {
   "cell_type": "code",
   "execution_count": null,
   "metadata": {},
   "outputs": [],
   "source": []
  }
 ],
 "metadata": {
  "kernelspec": {
   "display_name": "Python 3",
   "language": "python",
   "name": "python3"
  },
  "language_info": {
   "codemirror_mode": {
    "name": "ipython",
    "version": 3
   },
   "file_extension": ".py",
   "mimetype": "text/x-python",
   "name": "python",
   "nbconvert_exporter": "python",
   "pygments_lexer": "ipython3",
   "version": "3.8.5"
  }
 },
 "nbformat": 4,
 "nbformat_minor": 4
}
