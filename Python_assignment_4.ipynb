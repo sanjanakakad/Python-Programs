{
 "cells": [
  {
   "cell_type": "code",
   "execution_count": 7,
   "metadata": {},
   "outputs": [
    {
     "name": "stdout",
     "output_type": "stream",
     "text": [
      "enter the number : 4\n",
      "factprial of given number is :  24\n"
     ]
    }
   ],
   "source": [
    "#Program to find factorial of a number using recursion\n",
    "def fact(y):\n",
    "    if y==1:\n",
    "        return 1\n",
    "    else:\n",
    "        return(y*fact(y-1))\n",
    "    \n",
    "num=int(input(\"enter the number : \"))\n",
    "result=fact(num)\n",
    "print(\"factprial of given number is : \", result)"
   ]
  },
  {
   "cell_type": "code",
   "execution_count": 2,
   "metadata": {},
   "outputs": [
    {
     "name": "stdout",
     "output_type": "stream",
     "text": [
      "enter the number who's table is to be printed7\n",
      "7 * 1 = 7\n",
      "7 * 2 = 14\n",
      "7 * 3 = 21\n",
      "7 * 4 = 28\n",
      "7 * 5 = 35\n",
      "7 * 6 = 42\n",
      "7 * 7 = 49\n",
      "7 * 8 = 56\n",
      "7 * 9 = 63\n",
      "7 * 10 = 70\n"
     ]
    }
   ],
   "source": [
    "#Program to display the multiplication table\n",
    "table=int(input(\"enter the number who's table is to be printed\"))\n",
    "for i in range(1,11):\n",
    "    x=table*i\n",
    "    print(table,\"*\",i,\"=\",x)"
   ]
  },
  {
   "cell_type": "code",
   "execution_count": 11,
   "metadata": {},
   "outputs": [
    {
     "name": "stdout",
     "output_type": "stream",
     "text": [
      "enter the series last number : 9\n",
      "34\n"
     ]
    }
   ],
   "source": [
    "#Program to print fibbonaci sequence\n",
    "def Fibo(n):\n",
    "    if n < 0:\n",
    "        print(\"enter positive number\")\n",
    "    elif n == 0:\n",
    "        return 0\n",
    "    elif n ==1 or n== 2:\n",
    "        return 1\n",
    " \n",
    "    else:\n",
    "        return Fibo(n-1) + Fibo(n-2)\n",
    "print(Fibo(int(input('enter the series last number : '))))"
   ]
  },
  {
   "cell_type": "code",
   "execution_count": 13,
   "metadata": {},
   "outputs": [
    {
     "name": "stdout",
     "output_type": "stream",
     "text": [
      "Enter a number: 407\n",
      "407 is an Armstrong number\n"
     ]
    }
   ],
   "source": [
    "# Program to check armstrong number \n",
    "num = int(input(\"Enter a number: \"))\n",
    "sum = 0\n",
    "temp = num\n",
    "while temp > 0:\n",
    "   digit = temp % 10\n",
    "   sum += digit ** 3\n",
    "   temp //= 10\n",
    "if num == sum:\n",
    "   print(num,\"is an Armstrong number\")\n",
    "else:\n",
    "   print(num,\"is not an Armstrong number\")"
   ]
  },
  {
   "cell_type": "code",
   "execution_count": 14,
   "metadata": {},
   "outputs": [
    {
     "name": "stdout",
     "output_type": "stream",
     "text": [
      "enter the start point : 100\n",
      "enter the last stop point : 500\n",
      "153\n",
      "370\n",
      "371\n",
      "407\n"
     ]
    }
   ],
   "source": [
    "#Program to check armstrong number in an interval\n",
    "start = int(input('enter the start point : '))\n",
    "stop = int(input('enter the last stop point : '))\n",
    "\n",
    "for num in range(start, stop + 1):\n",
    "   order = len(str(num))\n",
    "   sum = 0\n",
    "\n",
    "   temp = num\n",
    "   while temp > 0:\n",
    "       digit = temp % 10\n",
    "       sum += digit ** order\n",
    "       temp //= 10\n",
    "\n",
    "   if num == sum:\n",
    "       print(num)"
   ]
  },
  {
   "cell_type": "code",
   "execution_count": 5,
   "metadata": {},
   "outputs": [
    {
     "name": "stdout",
     "output_type": "stream",
     "text": [
      "enter the last number : 51\n",
      "The sum is 1326\n"
     ]
    }
   ],
   "source": [
    "#Program to find sum of natural numbers\n",
    "n = int(input(\"enter the last number : \"))\n",
    "if n < 0:\n",
    "   print(\"Enter a positive number\")\n",
    "else:\n",
    "   sum = 0\n",
    "   while(n > 0):\n",
    "       sum+=n\n",
    "       n-=1\n",
    "   print(\"The sum is\", sum)"
   ]
  }
 ],
 "metadata": {
  "kernelspec": {
   "display_name": "Python 3",
   "language": "python",
   "name": "python3"
  },
  "language_info": {
   "codemirror_mode": {
    "name": "ipython",
    "version": 3
   },
   "file_extension": ".py",
   "mimetype": "text/x-python",
   "name": "python",
   "nbconvert_exporter": "python",
   "pygments_lexer": "ipython3",
   "version": "3.8.5"
  }
 },
 "nbformat": 4,
 "nbformat_minor": 4
}
