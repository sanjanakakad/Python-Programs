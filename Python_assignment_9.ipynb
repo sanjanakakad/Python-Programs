{
 "cells": [
  {
   "cell_type": "code",
   "execution_count": 27,
   "metadata": {},
   "outputs": [
    {
     "name": "stdout",
     "output_type": "stream",
     "text": [
      "enter the length : 4\n",
      "10\n",
      "10\n",
      "10\n",
      "10\n",
      "the list entered is  [10, 10, 10, 10]\n",
      "the sum of list entered is  40\n"
     ]
    }
   ],
   "source": [
    "#Program to find sum of elements in list\n",
    "ls=[]\n",
    "n=int(input('enter the length : '))\n",
    "for i in range(0,n):\n",
    "    x=int(input())\n",
    "    ls.append(x)\n",
    "print(\"the list entered is \", ls)\n",
    "sum=0\n",
    "for i in ls:\n",
    "    sum=sum+i\n",
    "print(\"the sum of list entered is \", sum)"
   ]
  },
  {
   "cell_type": "code",
   "execution_count": 28,
   "metadata": {},
   "outputs": [
    {
     "name": "stdout",
     "output_type": "stream",
     "text": [
      "enter the length : 5\n",
      "10\n",
      "2\n",
      "2\n",
      "2\n",
      "2\n",
      "the list entered is  [10, 2, 2, 2, 2]\n",
      "the multiplication of list entered is  160\n"
     ]
    }
   ],
   "source": [
    "#Program to multiply all numbers in list\n",
    "ls=[]\n",
    "n=int(input('enter the length : '))\n",
    "for i in range(0,n):\n",
    "    x=int(input())\n",
    "    ls.append(x)\n",
    "print(\"the list entered is \", ls)\n",
    "mul=1\n",
    "for i in ls:\n",
    "    mul=mul*i\n",
    "print(\"the multiplication of list entered is \", mul)"
   ]
  },
  {
   "cell_type": "code",
   "execution_count": 34,
   "metadata": {},
   "outputs": [
    {
     "name": "stdout",
     "output_type": "stream",
     "text": [
      "enter the length : 8\n",
      "5\n",
      "4\n",
      "6\n",
      "2\n",
      "7\n",
      "1\n",
      "3\n",
      "2\n",
      "the list entered is  [5, 4, 6, 2, 7, 1, 3, 2]\n",
      "the smallest element of list entered is  1\n"
     ]
    }
   ],
   "source": [
    "#Program to find smallest number in list \n",
    "ls=[]\n",
    "n=int(input('enter the length : '))\n",
    "for i in range(0,n):\n",
    "    x=int(input())\n",
    "    ls.append(x)\n",
    "print(\"the list entered is \", ls)\n",
    "ls.sort()\n",
    "print(\"the smallest element of list entered is \",ls[0])"
   ]
  },
  {
   "cell_type": "code",
   "execution_count": 36,
   "metadata": {},
   "outputs": [
    {
     "name": "stdout",
     "output_type": "stream",
     "text": [
      "enter the length : 6\n",
      "23\n",
      "12\n",
      "44\n",
      "23\n",
      "100\n",
      "23\n",
      "the list entered is  [23, 12, 44, 23, 100, 23]\n",
      "the largest element of list entered is  100\n"
     ]
    }
   ],
   "source": [
    "#Program to find largest number in list\n",
    "ls=[]\n",
    "n=int(input('enter the length : '))\n",
    "for i in range(0,n):\n",
    "    x=int(input())\n",
    "    ls.append(x)\n",
    "print(\"the list entered is \", ls)\n",
    "ls.sort()\n",
    "print(\"the largest element of list entered is \",ls[-1])"
   ]
  },
  {
   "cell_type": "code",
   "execution_count": 37,
   "metadata": {},
   "outputs": [
    {
     "name": "stdout",
     "output_type": "stream",
     "text": [
      "enter the length : 6\n",
      "23\n",
      "12\n",
      "44\n",
      "23\n",
      "100\n",
      "23\n",
      "the list entered is  [23, 12, 44, 23, 100, 23]\n",
      "the second largest element of list entered is  44\n"
     ]
    }
   ],
   "source": [
    "#Program to find second largest number in a list\n",
    "ls=[]\n",
    "n=int(input('enter the length : '))\n",
    "for i in range(0,n):\n",
    "    x=int(input())\n",
    "    ls.append(x)\n",
    "print(\"the list entered is \", ls)\n",
    "ls.sort()\n",
    "print(\"the second largest element of list entered is \",ls[-2])"
   ]
  },
  {
   "cell_type": "code",
   "execution_count": null,
   "metadata": {},
   "outputs": [],
   "source": [
    "#Program to find N largest elements from a list\n",
    "ls=[]\n",
    "n=int(input('enter the length : '))\n",
    "for i in range(0,n):\n",
    "    x=int(input())\n",
    "    ls.append(x)\n",
    "print(\"the list entered is \", ls)\n",
    "ls.sort()\n",
    "y=int(input('enter the number of largest no. to be printed from the list: '))\n",
    "print(ls[-y:])    "
   ]
  },
  {
   "cell_type": "code",
   "execution_count": 42,
   "metadata": {},
   "outputs": [
    {
     "name": "stdout",
     "output_type": "stream",
     "text": [
      "enter the length : 6\n",
      "24\n",
      "23\n",
      "12\n",
      "32\n",
      "45\n",
      "50\n",
      "the list entered is  [24, 23, 12, 32, 45, 50]\n",
      "24 12 32 50 "
     ]
    }
   ],
   "source": [
    "#Program to print even numbers in string\n",
    "ls=[]\n",
    "n=int(input('enter the length : '))\n",
    "for i in range(0,n):\n",
    "    x=int(input())\n",
    "    ls.append(x)\n",
    "print(\"the list entered is \", ls)\n",
    "for i in ls:\n",
    "    if i%2==0 :\n",
    "        print(i,end=\" \")"
   ]
  },
  {
   "cell_type": "code",
   "execution_count": 43,
   "metadata": {},
   "outputs": [
    {
     "name": "stdout",
     "output_type": "stream",
     "text": [
      "enter the length : 4\n",
      "1\n",
      "2\n",
      "3\n",
      "4\n",
      "the list entered is  [1, 2, 3, 4]\n",
      "1 3 "
     ]
    }
   ],
   "source": [
    "#Program to print odd numbers in string\n",
    "ls=[]\n",
    "n=int(input('enter the length : '))\n",
    "for i in range(0,n):\n",
    "    x=int(input())\n",
    "    ls.append(x)\n",
    "print(\"the list entered is \", ls)\n",
    "for i in ls:\n",
    "    if i%2!=0 :\n",
    "        print(i,end=\" \")"
   ]
  },
  {
   "cell_type": "code",
   "execution_count": 46,
   "metadata": {},
   "outputs": [
    {
     "name": "stdout",
     "output_type": "stream",
     "text": [
      "[2, 3, 5, 4, 7, 9]\n"
     ]
    }
   ],
   "source": [
    "#Program to remove empty list from list \n",
    "ls=[2,3,5,4,[],7,9]\n",
    "if [] in ls:\n",
    "    ls.remove([])\n",
    "print(ls)"
   ]
  },
  {
   "cell_type": "code",
   "execution_count": 51,
   "metadata": {},
   "outputs": [
    {
     "name": "stdout",
     "output_type": "stream",
     "text": [
      "list before cloning : ['donkey', 'monkey', 'dogs', 'cats']\n",
      "list after cloning : ['tiger', 'lion', 'elephents']\n"
     ]
    }
   ],
   "source": [
    "#Program to cloning or copying a list \n",
    "domestic_ani=['donkey','monkey','dogs','cats']\n",
    "print('list before cloning :' , domestic_ani)\n",
    "wild_ani=['tiger','lion','elephents']\n",
    "domestic_ani=wild_ani.copy()\n",
    "print('list after cloning :' ,domestic_ani)"
   ]
  },
  {
   "cell_type": "code",
   "execution_count": 44,
   "metadata": {},
   "outputs": [
    {
     "name": "stdout",
     "output_type": "stream",
     "text": [
      "enter the length : 5\n",
      "1\n",
      "2\n",
      "1\n",
      "1\n",
      "3\n",
      "the list entered is  [1, 2, 1, 1, 3]\n",
      "enter whose count is to be counted : 1\n",
      "3\n"
     ]
    }
   ],
   "source": [
    "#Program to count occurrence of an element in a list \n",
    "ls=[]\n",
    "n=int(input('enter the length : '))\n",
    "for i in range(0,n):\n",
    "    x=int(input())\n",
    "    ls.append(x)\n",
    "print(\"the list entered is \", ls)\n",
    "y=int(input('enter whose count is to be counted : '))\n",
    "print(ls.count(y))\n"
   ]
  }
 ],
 "metadata": {
  "kernelspec": {
   "display_name": "Python 3",
   "language": "python",
   "name": "python3"
  },
  "language_info": {
   "codemirror_mode": {
    "name": "ipython",
    "version": 3
   },
   "file_extension": ".py",
   "mimetype": "text/x-python",
   "name": "python",
   "nbconvert_exporter": "python",
   "pygments_lexer": "ipython3",
   "version": "3.8.5"
  }
 },
 "nbformat": 4,
 "nbformat_minor": 4
}
