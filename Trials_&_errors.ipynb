{
 "cells": [
  {
   "cell_type": "code",
   "execution_count": 28,
   "metadata": {},
   "outputs": [
    {
     "name": "stdout",
     "output_type": "stream",
     "text": [
      "67 98 33 88 32 12 1\n",
      "['67', '98', '33', '88', '32', '12', '1']\n",
      "67 98 33 88 32 12 1 "
     ]
    }
   ],
   "source": [
    "#split   - when input must be in a list or receiving data in one line\n",
    "#end=\" \" - next line nako aste \n",
    "a=input().split()\n",
    "print(a)\n",
    "for i in a:\n",
    "    print(i,end=\" \")"
   ]
  }
 ],
 "metadata": {
  "kernelspec": {
   "display_name": "Python 3",
   "language": "python",
   "name": "python3"
  },
  "language_info": {
   "codemirror_mode": {
    "name": "ipython",
    "version": 3
   },
   "file_extension": ".py",
   "mimetype": "text/x-python",
   "name": "python",
   "nbconvert_exporter": "python",
   "pygments_lexer": "ipython3",
   "version": "3.8.5"
  }
 },
 "nbformat": 4,
 "nbformat_minor": 4
}
