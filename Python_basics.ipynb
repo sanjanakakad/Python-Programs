{
 "cells": [
  {
   "cell_type": "code",
   "execution_count": 2,
   "metadata": {},
   "outputs": [
    {
     "name": "stdout",
     "output_type": "stream",
     "text": [
      "Hello Python\n",
      "Hello Python\n"
     ]
    }
   ],
   "source": [
    "# Program to print \"Hello Python\"\n",
    "print('Hello Python')\n",
    "print(\"Hello Python\") "
   ]
  },
  {
   "cell_type": "code",
   "execution_count": 6,
   "metadata": {},
   "outputs": [
    {
     "name": "stdout",
     "output_type": "stream",
     "text": [
      "enter first number24\n",
      "enter second number2\n",
      "addition : 26  division : 12.0\n"
     ]
    }
   ],
   "source": [
    "#Program to add and divide two numbers \n",
    "n1=int(input(\"enter first number\"))\n",
    "n2=int(input(\"enter second number\"))\n",
    "add=n1+n2\n",
    "div=n1/n2\n",
    "print(\"addition :\",add,\" division :\",div)"
   ]
  },
  {
   "cell_type": "code",
   "execution_count": 7,
   "metadata": {},
   "outputs": [
    {
     "name": "stdout",
     "output_type": "stream",
     "text": [
      "enter the base of triangle2\n",
      "enter the height of triangle6\n",
      "area of triangle is : 6.0\n"
     ]
    }
   ],
   "source": [
    "#Program to find area of triangle\n",
    "b=int(input(\"enter the base of triangle\"))\n",
    "h=int(input(\"enter the height of triangle\"))\n",
    "area=0.5*b*h\n",
    "print(\"area of triangle is :\",area)"
   ]
  },
  {
   "cell_type": "code",
   "execution_count": 18,
   "metadata": {},
   "outputs": [
    {
     "name": "stdout",
     "output_type": "stream",
     "text": [
      "enter the 1num :23\n",
      "enter the 2num :24\n",
      "Swapped numbers are :  24 23\n"
     ]
    }
   ],
   "source": [
    "#Program to swap two numbers\n",
    "num1=int(input(\"enter the 1num :\"))\n",
    "num2=int(input(\"enter the 2num :\"))\n",
    "num1=num1+num2\n",
    "num2=num1-num2\n",
    "num1=num1-num2\n",
    "print(\"Swapped numbers are : \", num1 , num2)"
   ]
  },
  {
   "cell_type": "code",
   "execution_count": 19,
   "metadata": {},
   "outputs": [
    {
     "name": "stdout",
     "output_type": "stream",
     "text": [
      "4\n"
     ]
    }
   ],
   "source": [
    "#Program to generate random number \n",
    "import random\n",
    "print(random.randint(1,4))\n"
   ]
  }
 ],
 "metadata": {
  "kernelspec": {
   "display_name": "Python 3",
   "language": "python",
   "name": "python3"
  },
  "language_info": {
   "codemirror_mode": {
    "name": "ipython",
    "version": 3
   },
   "file_extension": ".py",
   "mimetype": "text/x-python",
   "name": "python",
   "nbconvert_exporter": "python",
   "pygments_lexer": "ipython3",
   "version": "3.8.5"
  }
 },
 "nbformat": 4,
 "nbformat_minor": 4
}
