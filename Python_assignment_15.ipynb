{
 "cells": [
  {
   "cell_type": "code",
   "execution_count": 14,
   "metadata": {},
   "outputs": [
    {
     "name": "stdout",
     "output_type": "stream",
     "text": [
      "[1, 2, 3, 4]\n",
      "[0, 1756]\n",
      "[]\n"
     ]
    }
   ],
   "source": [
    "#Q1\n",
    "def lists(str4):\n",
    "    res=[i for i in str4 if not isinstance(i,str)]\n",
    "    return res\n",
    "str1=([1,2,3,\"a\",\"b\",4])\n",
    "str2=([\"A\",0,\"edabit\",1756,\"python\",\"1756\"])\n",
    "str3=([\"nothing\",\"here\"])\n",
    "print(lists(str1))\n",
    "print(lists(str2))\n",
    "print(lists(str3))"
   ]
  },
  {
   "cell_type": "code",
   "execution_count": 4,
   "metadata": {},
   "outputs": [
    {
     "name": "stdout",
     "output_type": "stream",
     "text": [
      "[0, 1, 2, 3, 4]\n",
      "[1, 3, 5, 7, 9]\n",
      "[5, 5, 5, 5, 5]\n"
     ]
    }
   ],
   "source": [
    "#Q2\n",
    "def lists(str1):\n",
    "    res=[]\n",
    "    for i in range(len(str1)):\n",
    "        res.append(i+str1[i])\n",
    "    return res\n",
    "print(lists(([0,0,0,0,0])))\n",
    "print(lists(([1,2,3,4,5])))\n",
    "print(lists(([5,4,3,2,1])))"
   ]
  },
  {
   "cell_type": "code",
   "execution_count": 2,
   "metadata": {},
   "outputs": [
    {
     "name": "stdout",
     "output_type": "stream",
     "text": [
      "12.57\n",
      "565.49\n",
      "0.0\n"
     ]
    }
   ],
   "source": [
    "#Q3\n",
    "def vol(h,r):\n",
    "    v=3.14159*r**2*h/3\n",
    "    return round(v,2)\n",
    "print(vol(3,2))\n",
    "print(vol(15,6))\n",
    "print(vol(18,0))"
   ]
  },
  {
   "cell_type": "code",
   "execution_count": null,
   "metadata": {},
   "outputs": [],
   "source": [
    "#Q4\n"
   ]
  }
 ],
 "metadata": {
  "kernelspec": {
   "display_name": "Python 3",
   "language": "python",
   "name": "python3"
  },
  "language_info": {
   "codemirror_mode": {
    "name": "ipython",
    "version": 3
   },
   "file_extension": ".py",
   "mimetype": "text/x-python",
   "name": "python",
   "nbconvert_exporter": "python",
   "pygments_lexer": "ipython3",
   "version": "3.8.5"
  }
 },
 "nbformat": 4,
 "nbformat_minor": 4
}
