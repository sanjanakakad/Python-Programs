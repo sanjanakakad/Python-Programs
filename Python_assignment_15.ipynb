{
 "cells": [
  {
   "cell_type": "code",
   "execution_count": 14,
   "metadata": {},
   "outputs": [
    {
     "name": "stdout",
     "output_type": "stream",
     "text": [
      "[1, 2, 3, 4]\n",
      "[0, 1756]\n",
      "[]\n"
     ]
    }
   ],
   "source": [
    "#Q1\n",
    "def lists(str4):\n",
    "    res=[i for i in str4 if not isinstance(i,str)]\n",
    "    return res\n",
    "str1=([1,2,3,\"a\",\"b\",4])\n",
    "str2=([\"A\",0,\"edabit\",1756,\"python\",\"1756\"])\n",
    "str3=([\"nothing\",\"here\"])\n",
    "print(lists(str1))\n",
    "print(lists(str2))\n",
    "print(lists(str3))"
   ]
  },
  {
   "cell_type": "code",
   "execution_count": null,
   "metadata": {},
   "outputs": [],
   "source": [
    "#Q2\n"
   ]
  },
  {
   "cell_type": "code",
   "execution_count": 20,
   "metadata": {},
   "outputs": [
    {
     "name": "stdout",
     "output_type": "stream",
     "text": [
      "12.57\n"
     ]
    }
   ],
   "source": [
    "#Q3\n",
    "def vol(h,r):\n",
    "    v=3.142*r**2*h/3\n",
    "    return round(v,2)\n",
    "print(vol(3,2))"
   ]
  },
  {
   "cell_type": "code",
   "execution_count": null,
   "metadata": {},
   "outputs": [],
   "source": []
  }
 ],
 "metadata": {
  "kernelspec": {
   "display_name": "Python 3",
   "language": "python",
   "name": "python3"
  },
  "language_info": {
   "codemirror_mode": {
    "name": "ipython",
    "version": 3
   },
   "file_extension": ".py",
   "mimetype": "text/x-python",
   "name": "python",
   "nbconvert_exporter": "python",
   "pygments_lexer": "ipython3",
   "version": "3.8.5"
  }
 },
 "nbformat": 4,
 "nbformat_minor": 4
}
