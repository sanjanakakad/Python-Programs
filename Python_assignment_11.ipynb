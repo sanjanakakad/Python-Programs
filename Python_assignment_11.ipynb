{
 "cells": [
  {
   "cell_type": "code",
   "execution_count": 27,
   "metadata": {},
   "outputs": [
    {
     "name": "stdout",
     "output_type": "stream",
     "text": [
      "100,150,180\n",
      "18,22,24,"
     ]
    }
   ],
   "source": [
    "#Q1\n",
    "c=50\n",
    "h=30\n",
    "d=input().split(',')\n",
    "for q in d:\n",
    "    q1=2*c*int(q)\n",
    "    q1=q1/h\n",
    "    q2=q1**0.5\n",
    "    print(int(q2),end=',')"
   ]
  },
  {
   "cell_type": "code",
   "execution_count": 16,
   "metadata": {},
   "outputs": [
    {
     "name": "stdout",
     "output_type": "stream",
     "text": [
      "enter the row of an array3\n",
      "enter the coloum of an array5\n",
      "[0, 0, 0, 0, 0] [0, 1, 2, 3, 4] [0, 2, 4, 6, 8] "
     ]
    }
   ],
   "source": [
    "#Q2\n",
    "x=int(input('enter the row of an array'))\n",
    "y=int(input('enter the coloum of an array'))\n",
    "arr=[]\n",
    "for i in range(0,x):\n",
    "    arr=[]\n",
    "    for j in range(0,y):\n",
    "        z=i*j\n",
    "        arr.append(z)\n",
    "    print(arr ,end=' ')"
   ]
  },
  {
   "cell_type": "code",
   "execution_count": 36,
   "metadata": {},
   "outputs": [
    {
     "name": "stdout",
     "output_type": "stream",
     "text": [
      "without,hello,bag,world\n",
      "bag,hello,without,world\n"
     ]
    }
   ],
   "source": [
    "#Q3\n",
    "st = input().split(\",\")\n",
    "st = sorted(st)\n",
    "print(','.join(st))"
   ]
  },
  {
   "cell_type": "code",
   "execution_count": 44,
   "metadata": {},
   "outputs": [
    {
     "name": "stdout",
     "output_type": "stream",
     "text": [
      "hello world and practice makes perfect and hello world again\n",
      "again and hello makes perfect practice world\n"
     ]
    }
   ],
   "source": [
    "#Q4\n",
    "st = input().split(\" \")\n",
    "print(' '.join(sorted(set(st))))"
   ]
  },
  {
   "cell_type": "code",
   "execution_count": 54,
   "metadata": {},
   "outputs": [
    {
     "name": "stdout",
     "output_type": "stream",
     "text": [
      "hello world! 123\n",
      "Letters: 10\n",
      "Digits: 3\n"
     ]
    }
   ],
   "source": [
    "#Q5\n",
    "str=input()\n",
    "d=0\n",
    "l=0\n",
    "for ch in str:\n",
    "   if ch.isdigit():\n",
    "      d=d+1\n",
    "   elif ch.isalpha():\n",
    "      l=l+1\n",
    "   else:\n",
    "      pass\n",
    "print(\"Letters:\", l)\n",
    "print(\"Digits:\", d)"
   ]
  },
  {
   "cell_type": "code",
   "execution_count": null,
   "metadata": {},
   "outputs": [],
   "source": []
  }
 ],
 "metadata": {
  "kernelspec": {
   "display_name": "Python 3",
   "language": "python",
   "name": "python3"
  },
  "language_info": {
   "codemirror_mode": {
    "name": "ipython",
    "version": 3
   },
   "file_extension": ".py",
   "mimetype": "text/x-python",
   "name": "python",
   "nbconvert_exporter": "python",
   "pygments_lexer": "ipython3",
   "version": "3.8.5"
  }
 },
 "nbformat": 4,
 "nbformat_minor": 4
}
