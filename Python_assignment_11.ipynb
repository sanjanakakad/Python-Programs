{
 "cells": [
  {
   "cell_type": "code",
   "execution_count": 25,
   "metadata": {},
   "outputs": [
    {
     "name": "stdout",
     "output_type": "stream",
     "text": [
      "100\n",
      "18.257418583505537\n"
     ]
    }
   ],
   "source": [
    "#Q1\n",
    "c=50\n",
    "h=30\n",
    "d=input().split(',')\n",
    "for q in d:\n",
    "    q1=2*c*int(q)\n",
    "    q1=q1/h\n",
    "    q2=q1**0.5\n",
    "print(q2)"
   ]
  },
  {
   "cell_type": "code",
   "execution_count": 16,
   "metadata": {},
   "outputs": [
    {
     "name": "stdout",
     "output_type": "stream",
     "text": [
      "enter the row of an array3\n",
      "enter the coloum of an array5\n",
      "[0, 0, 0, 0, 0] [0, 1, 2, 3, 4] [0, 2, 4, 6, 8] "
     ]
    }
   ],
   "source": [
    "#Q2\n",
    "x=int(input('enter the row of an array'))\n",
    "y=int(input('enter the coloum of an array'))\n",
    "arr=[]\n",
    "for i in range(0,x):\n",
    "    arr=[]\n",
    "    for j in range(0,y):\n",
    "        z=i*j\n",
    "        arr.append(z)\n",
    "    print(arr ,end=' ')"
   ]
  },
  {
   "cell_type": "code",
   "execution_count": null,
   "metadata": {},
   "outputs": [],
   "source": [
    "#Q3"
   ]
  },
  {
   "cell_type": "code",
   "execution_count": null,
   "metadata": {},
   "outputs": [],
   "source": [
    "#Q4"
   ]
  },
  {
   "cell_type": "code",
   "execution_count": null,
   "metadata": {},
   "outputs": [],
   "source": [
    "#Q5"
   ]
  }
 ],
 "metadata": {
  "kernelspec": {
   "display_name": "Python 3",
   "language": "python",
   "name": "python3"
  },
  "language_info": {
   "codemirror_mode": {
    "name": "ipython",
    "version": 3
   },
   "file_extension": ".py",
   "mimetype": "text/x-python",
   "name": "python",
   "nbconvert_exporter": "python",
   "pygments_lexer": "ipython3",
   "version": "3.8.5"
  }
 },
 "nbformat": 4,
 "nbformat_minor": 4
}
