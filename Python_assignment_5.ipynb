{
 "cells": [
  {
   "cell_type": "code",
   "execution_count": 42,
   "metadata": {},
   "outputs": [
    {
     "name": "stdout",
     "output_type": "stream",
     "text": [
      "enter the first number :34\n",
      "enter the second number :12\n",
      "The L.C.M. is 204\n"
     ]
    }
   ],
   "source": [
    "#Program to find LCM\n",
    "n1=int(input('enter the first number :'))\n",
    "n2=int(input('enter the second number :'))\n",
    "\n",
    "def compute_lcm(x, y):\n",
    "   if x > y:\n",
    "       greater = x\n",
    "   else:\n",
    "       greater = y\n",
    "\n",
    "   while(True):\n",
    "       if((greater % x == 0) and (greater % y == 0)):\n",
    "           lcm = greater\n",
    "           break\n",
    "       greater += 1\n",
    "\n",
    "   return lcm\n",
    "print(\"The L.C.M. is\", compute_lcm(n1, n2))"
   ]
  },
  {
   "cell_type": "code",
   "execution_count": 45,
   "metadata": {},
   "outputs": [
    {
     "name": "stdout",
     "output_type": "stream",
     "text": [
      "enter the first number :34\n",
      "enter the second number :12\n",
      "The H.C.F. is 2\n"
     ]
    }
   ],
   "source": [
    "#Program to find HCF\n",
    "n1=int(input('enter the first number :'))\n",
    "n2=int(input('enter the second number :'))\n",
    "def compute_hcf(x, y):\n",
    "    if x > y:\n",
    "        smaller = y\n",
    "    else:\n",
    "        smaller = x\n",
    "    for i in range(1, smaller+1):\n",
    "        if((x % i == 0) and (y % i == 0)):\n",
    "            hcf = i \n",
    "    return hcf\n",
    "print(\"The H.C.F. is\", compute_hcf(n1, n2))"
   ]
  },
  {
   "cell_type": "code",
   "execution_count": 28,
   "metadata": {
    "scrolled": true
   },
   "outputs": [
    {
     "name": "stdout",
     "output_type": "stream",
     "text": [
      "enter any decimal number : 24\n",
      "0b11000\n",
      "0o30\n",
      "0x18\n"
     ]
    }
   ],
   "source": [
    "#Program to convert Decimal to Binary , octal and hexadecimal\n",
    "def binary(n1):\n",
    "    print(bin(n1))\n",
    "def octal(n1):\n",
    "    print(oct(n1))\n",
    "def hexa(n1):\n",
    "    print(hex(n1))\n",
    "\n",
    "n1=int(input('enter any decimal number : '))\n",
    "binary(n1)\n",
    "octal(n1)\n",
    "hexa(n1)"
   ]
  },
  {
   "cell_type": "code",
   "execution_count": 4,
   "metadata": {},
   "outputs": [],
   "source": [
    "#Program to find ASCII value of a character\n",
    "char=input(\"enter the character :\")\n",
    "print('the ascii value of character ')"
   ]
  },
  {
   "cell_type": "code",
   "execution_count": 18,
   "metadata": {},
   "outputs": [
    {
     "name": "stdout",
     "output_type": "stream",
     "text": [
      "enter the choice \n",
      "1.add\n",
      "2.sub\n",
      "3.mul\n",
      "4.div : 3\n",
      "enter the first number : 3\n",
      "enter the second number : 4\n",
      "the multiplication is  12\n"
     ]
    }
   ],
   "source": [
    "#Program to make simple calculator with 4 basic operations\n",
    "def add(n1,n2):\n",
    "    return(n1+n2)\n",
    "def sub(n1,n2):\n",
    "    return(n1-n2)\n",
    "def mul(n1,n2):\n",
    "    return(n1*n2)\n",
    "def div(n1,n2):\n",
    "    return(n1/n2)\n",
    "choice=int(input(\"enter the choice \\n1.add\\n2.sub\\n3.mul\\n4.div : \"))\n",
    "n1=int(input('enter the first number : '))\n",
    "n2=int(input('enter the second number : '))\n",
    "if choice==1:\n",
    "    print('the addition is ',add(n1,n2))\n",
    "elif choice==2:\n",
    "    print('the subtraction is ',sub(n1,n2))\n",
    "elif choice==3:\n",
    "    print('the multiplication is ',mul(n1,n2))\n",
    "elif choice==4:\n",
    "    print('the division is ',div(n1,n2))\n",
    "else:\n",
    "    print('enter valid choice!!')"
   ]
  }
 ],
 "metadata": {
  "kernelspec": {
   "display_name": "Python 3",
   "language": "python",
   "name": "python3"
  },
  "language_info": {
   "codemirror_mode": {
    "name": "ipython",
    "version": 3
   },
   "file_extension": ".py",
   "mimetype": "text/x-python",
   "name": "python",
   "nbconvert_exporter": "python",
   "pygments_lexer": "ipython3",
   "version": "3.8.5"
  }
 },
 "nbformat": 4,
 "nbformat_minor": 4
}
