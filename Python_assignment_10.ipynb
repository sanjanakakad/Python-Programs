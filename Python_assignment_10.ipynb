{
 "cells": [
  {
   "cell_type": "code",
   "execution_count": 8,
   "metadata": {},
   "outputs": [
    {
     "name": "stdout",
     "output_type": "stream",
     "text": [
      "girl\n",
      "sanju\n",
      "happy\n",
      "is\n"
     ]
    }
   ],
   "source": [
    "#Program to extract unique values dictionary vales \n",
    "num={'s':'sanju','a':'is','n':'sanju','j':'happy','u':'girl'}\n",
    "for value in set(num.values()):\n",
    "    print(value)"
   ]
  },
  {
   "cell_type": "code",
   "execution_count": 11,
   "metadata": {},
   "outputs": [
    {
     "name": "stdout",
     "output_type": "stream",
     "text": [
      "the sum of all elements in given dictionary is :  100\n"
     ]
    }
   ],
   "source": [
    "#Program to find sum of all elements of dictionary\n",
    "dic={'k1':10,'k2':20,'k3':70}\n",
    "print(\"the sum of all elements in given dictionary is : \",sum(dic.values()))"
   ]
  },
  {
   "cell_type": "code",
   "execution_count": 19,
   "metadata": {},
   "outputs": [
    {
     "name": "stdout",
     "output_type": "stream",
     "text": [
      "the merged dictionary is : \n",
      "{'a': 11, 'b': 12, 'c': 13, 'd': 14, 'f': 15, 'g': 16}\n"
     ]
    }
   ],
   "source": [
    "#Program to merg two dictionaries \n",
    "y={'a':11,'b':12,'c':13,'d':14}\n",
    "z={'c':13,'f':15,'g':16,'b':12}\n",
    "x=y.update(z)\n",
    "print('the merged dictionary is : ')\n",
    "print(y)"
   ]
  },
  {
   "cell_type": "code",
   "execution_count": 22,
   "metadata": {},
   "outputs": [
    {
     "name": "stdout",
     "output_type": "stream",
     "text": [
      "{'nilesh': 'father', 'namrata': 'mother', 'siddhesh': 'brother', 'sanjana': 'monkey'}\n"
     ]
    }
   ],
   "source": [
    "#Program to convert key-values list to flat dictionary\n",
    "fam={'mem':[\"nilesh\",\"namrata\",\"siddhesh\",\"sanjana\"],'name':[\"father\",\"mother\",\"brother\",\"monkey\"]}\n",
    "result=dict(zip(fam['mem'],fam['name']))\n",
    "print(result)"
   ]
  },
  {
   "cell_type": "code",
   "execution_count": 27,
   "metadata": {},
   "outputs": [
    {
     "name": "stdout",
     "output_type": "stream",
     "text": [
      "OrderedDict([(5, 'e'), (4, 'd'), (1, 'a'), (2, 'b'), (3, 'c')])\n"
     ]
    }
   ],
   "source": [
    "#Program to insertion at the begining in orderedDict\n",
    "from collections import OrderedDict\n",
    "dic1=OrderedDict([(1,'a'),(2,'b'),(3,'c')])\n",
    "dic2=OrderedDict([(5,'e'),(4,'d')])\n",
    "r=OrderedDict(list(dic2.items())+list(dic1.items()))\n",
    "print(r)"
   ]
  },
  {
   "cell_type": "code",
   "execution_count": 33,
   "metadata": {},
   "outputs": [
    {
     "name": "stdout",
     "output_type": "stream",
     "text": [
      "True\n"
     ]
    }
   ],
   "source": [
    "#Program to check order of character in string using OrderedDict()\n",
    "from collections import OrderedDict \n",
    "def checkOrder(string, pattern): \n",
    "    dic = OrderedDict.fromkeys(string) \n",
    "    ptr = 0\n",
    "    for key,value in dic.items(): \n",
    "        if (key == pattern[ptr]): \n",
    "            ptr = ptr + 1\n",
    "        if (ptr == (len(pattern))): \n",
    "            return 'True'\n",
    "    return 'False'\n",
    "\n",
    "string = 'Sanjana kakad'\n",
    "pattern = 'Sanj'\n",
    "print (checkOrder(string,pattern))"
   ]
  },
  {
   "cell_type": "code",
   "execution_count": 39,
   "metadata": {},
   "outputs": [
    {
     "name": "stdout",
     "output_type": "stream",
     "text": [
      "[62, 63, 64]\n",
      "[1, 3, 5]\n"
     ]
    }
   ],
   "source": [
    "#Program to sort Python Dictionaries by key or values\n",
    "dic = {1:63, 3:64, 5:62}\n",
    "\n",
    "sort = sorted(dic.values())\n",
    "sort1= sorted(dic.keys())\n",
    "print(sort)\n",
    "print(sort1)"
   ]
  },
  {
   "cell_type": "code",
   "execution_count": null,
   "metadata": {},
   "outputs": [],
   "source": []
  }
 ],
 "metadata": {
  "kernelspec": {
   "display_name": "Python 3",
   "language": "python",
   "name": "python3"
  },
  "language_info": {
   "codemirror_mode": {
    "name": "ipython",
    "version": 3
   },
   "file_extension": ".py",
   "mimetype": "text/x-python",
   "name": "python",
   "nbconvert_exporter": "python",
   "pygments_lexer": "ipython3",
   "version": "3.8.5"
  }
 },
 "nbformat": 4,
 "nbformat_minor": 4
}
