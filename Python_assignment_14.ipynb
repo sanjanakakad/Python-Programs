{
 "cells": [
  {
   "cell_type": "code",
   "execution_count": 16,
   "metadata": {},
   "outputs": [
    {
     "name": "stdout",
     "output_type": "stream",
     "text": [
      "Hello World!\n",
      "HHeelllloo  WWoorrlldd!!\n"
     ]
    }
   ],
   "source": [
    "#Q1\n",
    "def twin(str,n):\n",
    "    return ''.join([x*n for x in str])\n",
    "n=2\n",
    "str=input()\n",
    "print(twin(str,n))"
   ]
  },
  {
   "cell_type": "code",
   "execution_count": 16,
   "metadata": {},
   "outputs": [
    {
     "name": "stdout",
     "output_type": "stream",
     "text": [
      "False\n",
      "boolean expected\n"
     ]
    }
   ],
   "source": [
    "#Q2\n",
    "def expectation(y):\n",
    "    if ('y'==True)or('y'==False):\n",
    "        return not y\n",
    "    else:\n",
    "        x=\"boolean expected\"\n",
    "        return x\n",
    "y=input()\n",
    "print(expectation(y))"
   ]
  },
  {
   "cell_type": "code",
   "execution_count": 4,
   "metadata": {},
   "outputs": [
    {
     "name": "stdout",
     "output_type": "stream",
     "text": [
      "enter the no. of layers : 21\n",
      "1048.576 m\n"
     ]
    }
   ],
   "source": [
    "#Q3\n",
    "def thickness(n):\n",
    "    res=0.5\n",
    "    for x in range(n):\n",
    "        res*=2\n",
    "    return res/1000\n",
    "print(thickness(int(input(\"enter the no. of layers : \"))),'m')"
   ]
  },
  {
   "cell_type": "code",
   "execution_count": 22,
   "metadata": {},
   "outputs": [
    {
     "name": "stdout",
     "output_type": "stream",
     "text": [
      "enter the string: STRIKE\n",
      "[0, 1, 2, 3, 4, 5]\n"
     ]
    }
   ],
   "source": [
    "#Q4\n",
    "def capitals(spell):\n",
    "    cap = []\n",
    "    for i in spell:\n",
    "        if i.isupper():\n",
    "            cap.append(spell.index(i))\n",
    "    return cap\n",
    "print(capitals(input(\"enter the string: \")))"
   ]
  },
  {
   "cell_type": "code",
   "execution_count": 26,
   "metadata": {},
   "outputs": [
    {
     "name": "stdout",
     "output_type": "stream",
     "text": [
      "enetr the limit: 4\n",
      "[2, 4]\n"
     ]
    }
   ],
   "source": [
    "#Q5\n",
    "def even(n):\n",
    "    res=[i for i in range(1,n+1) if(i%2==0)]\n",
    "    return res\n",
    "print(even(int(input(\"enetr the limit: \"))))"
   ]
  }
 ],
 "metadata": {
  "kernelspec": {
   "display_name": "Python 3",
   "language": "python",
   "name": "python3"
  },
  "language_info": {
   "codemirror_mode": {
    "name": "ipython",
    "version": 3
   },
   "file_extension": ".py",
   "mimetype": "text/x-python",
   "name": "python",
   "nbconvert_exporter": "python",
   "pygments_lexer": "ipython3",
   "version": "3.8.5"
  }
 },
 "nbformat": 4,
 "nbformat_minor": 4
}
